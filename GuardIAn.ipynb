{
  "cells": [
    {
      "cell_type": "markdown",
      "metadata": {
        "id": "view-in-github",
        "colab_type": "text"
      },
      "source": [
        "<a href=\"https://colab.research.google.com/github/lucas1z/Projeto_GuardIAn_ImersaoIA/blob/main/GuardIAn.ipynb\" target=\"_parent\"><img src=\"https://colab.research.google.com/assets/colab-badge.svg\" alt=\"Open In Colab\"/></a>"
      ]
    },
    {
      "cell_type": "code",
      "source": [
        "#Instalando o SDK do Google ferramenta dos desenvolvedores\n",
        "!pip install -q -U google-generativeai"
      ],
      "metadata": {
        "id": "VLCj5J73XKio"
      },
      "execution_count": null,
      "outputs": []
    },
    {
      "cell_type": "markdown",
      "source": [
        "# API Google | GuardIAn"
      ],
      "metadata": {
        "id": "hTmdtwnzEqUa"
      }
    },
    {
      "cell_type": "code",
      "source": [
        "import google.generativeai as genai\n",
        "import secrets\n",
        "import string\n",
        "\n",
        "# Substitua 'secrect_key' pela sua API Key\n",
        "GOOGLE_API_KEY = 'secrect_key'\n",
        "genai.configure(api_key=GOOGLE_API_KEY)"
      ],
      "metadata": {
        "id": "mqbUvFFUE0Dv"
      },
      "execution_count": null,
      "outputs": []
    },
    {
      "cell_type": "markdown",
      "source": [
        "Sistema GuadIAn"
      ],
      "metadata": {
        "id": "C5h5M1_Z5uhx"
      }
    },
    {
      "cell_type": "code",
      "execution_count": null,
      "metadata": {
        "colab": {
          "base_uri": "https://localhost:8080/"
        },
        "id": "pKc6sdxfQndh",
        "outputId": "3381567b-1a18-4583-b044-25523c43c70b"
      },
      "outputs": [
        {
          "output_type": "stream",
          "name": "stdout",
          "text": [
            "--------------------------------------------------------------\n",
            "| 𝐆𝐮𝐚𝐫𝐝𝐈𝐀𝐧 | \n",
            " \n",
            " \n",
            "█▓▒▒░░░ SEU ASSISTENTE DE SEGURANÇA CIBERNÉTICA ░░░▒▒▓█\n",
            "\n",
            "\n",
            "🔒🔒🔒🔒🔒🔒🔒🔒🔒🔒🔒🔒🔒🔒🔒🔒🔒🔒🔒🔒🔒🔒🔒🔒🔒🔒🔒🔒🔒\n",
            "--------------------------------------------------------------\n"
          ]
        }
      ],
      "source": [
        "# Modelo utilizado gemini pro\n",
        "model = guardian.GenerativeModel('gemini-pro')\n",
        "\n",
        "# Iniciar uma sessão de chat com o modelo\n",
        "chat = model.start_chat(history=[])\n",
        "\n",
        "# Função para gerar senhas aleatórias\n",
        "def gerar_senha(comprimento=12):\n",
        "    alfabeto = string.ascii_letters + string.digits + string.punctuation\n",
        "    senha = ''.join(secrets.choice(alfabeto) for _ in range(comprimento))\n",
        "    return senha\n",
        "\n",
        "# Função para obter respostas do assistente de cibersegurança\n",
        "def obter_resposta(pergunta):\n",
        "    prompt = f\"Você é um assistente de cibersegurança. Como posso te ajudar hoje? {pergunta}\"\n",
        "\n",
        "    try:\n",
        "        response = chat.send_message(prompt)\n",
        "        return response.text\n",
        "    except Exception as e:\n",
        "        return f\"Desculpe, ocorreu um erro: {e}\"\n",
        "\n",
        "# Função para verificar a segurança do link\n",
        "def verificar_link(url):\n",
        "    if url.startswith(\"https://\"):\n",
        "        return 'O link é seguro (HTTPS).\\n \\n * AVISO! * \\n Mesmo com o HTTPS, recomendo analisar cuidadosamente o site para evitar possíveis golpes de phishing.'\n",
        "    elif url.startswith(\"http://\"):\n",
        "        return \"O link não é seguro (HTTP). Tenha cuidado!\"\n",
        "    else:\n",
        "        return \"Formato de URL inválido.\"\n",
        "\n",
        "# Introdução do Guardian\n",
        "print('--------------------------------------------------------------')\n",
        "print(\"| 𝐆𝐮𝐚𝐫𝐝𝐈𝐀𝐧 |\", \"\\n\", \"\\n\",\"\\n\"'█▓▒▒░░░ SEU ASSISTENTE DE SEGURANÇA CIBERNÉTICA ░░░▒▒▓█')\n",
        "print(\"\\n\")\n",
        "print('🔒🔒🔒🔒🔒🔒🔒🔒🔒🔒🔒🔒🔒🔒🔒🔒🔒🔒🔒🔒🔒🔒🔒🔒🔒🔒🔒🔒🔒')\n",
        "\n",
        "# Loop principal do programa\n",
        "while True:\n",
        "    print('--------------------------------------------------------------')\n",
        "    opcao = input(\"Escolha uma opção:\\n1. Conversar com o Guardian\\n2. Gerar senha segura\\n3. Verificar segurança do link\\n4. Sair\\n\\n Insira um numero: \")\n",
        "    print('--------------------------------------------------------------')\n",
        "\n",
        "    if opcao == '1':\n",
        "        print(\"Para encerrar a conversa, digite 'sair'. Para retornar ao menu principal, digite 'menu'.\\n\")\n",
        "        while True:\n",
        "            print('-------------------------------------------------------------')\n",
        "            gcht = input('Como posso te ajudar hoje?: ')\n",
        "            if gcht.lower() == \"sair\":\n",
        "                break\n",
        "            elif gcht.lower() == \"menu\":\n",
        "                break\n",
        "            resposta = obter_resposta(gcht)\n",
        "            print('--------------------------------------------------------------')\n",
        "            print(f\"Resposta: {resposta.rjust(70)}\\n\")  # Alinhamento à direita\n",
        "\n",
        "    elif opcao == '2':\n",
        "        comprimento = int(input(\"Digite o comprimento desejado para a senha: \"))\n",
        "        senha = gerar_senha(comprimento)\n",
        "        print('-------------------------------------------------------------')\n",
        "        print(f\"Senha gerada: {senha}\\n\")\n",
        "\n",
        "    elif opcao == '3':\n",
        "        url = input(\"Digite o link que deseja verificar: \")\n",
        "        resultado = verificar_link(url)\n",
        "        print('--------------------------------------------------------------')\n",
        "        print(f\"Resultado: {resultado}\\n\")\n",
        "\n",
        "    elif opcao == '4':\n",
        "        break\n",
        "\n",
        "    else:\n",
        "        print(\"Opção inválida. Tente novamente.\\n\")"
      ]
    }
  ],
  "metadata": {
    "colab": {
      "provenance": [],
      "include_colab_link": true
    },
    "kernelspec": {
      "display_name": "Python 3",
      "name": "python3"
    },
    "language_info": {
      "name": "python"
    }
  },
  "nbformat": 4,
  "nbformat_minor": 0
}