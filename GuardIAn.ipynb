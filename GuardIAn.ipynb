{
  "cells": [
    {
      "cell_type": "markdown",
      "metadata": {
        "id": "view-in-github",
        "colab_type": "text"
      },
      "source": [
        "<a href=\"https://colab.research.google.com/github/bumplc/Projeto_GuardIAn_ImersaoIA/blob/main/GuardIAn.ipynb\" target=\"_parent\"><img src=\"https://colab.research.google.com/assets/colab-badge.svg\" alt=\"Open In Colab\"/></a>"
      ]
    },
    {
      "cell_type": "markdown",
      "source": [
        "# API Google | GuardIAn"
      ],
      "metadata": {
        "id": "hTmdtwnzEqUa"
      }
    },
    {
      "cell_type": "code",
      "source": [
        "import google.generativeai as guardian\n",
        "import secrets\n",
        "import string\n",
        "\n",
        "# API do Google Cloud x Colab\n",
        "from google.colab import userdata\n",
        "api_key = userdata.get('gkey')\n",
        "\n",
        "# Configurar a API do Google Generative AI\n",
        "guardian.configure(api_key=api_key)"
      ],
      "metadata": {
        "id": "mqbUvFFUE0Dv"
      },
      "execution_count": 2,
      "outputs": []
    },
    {
      "cell_type": "markdown",
      "source": [
        "Sistema GuadIAn"
      ],
      "metadata": {
        "id": "C5h5M1_Z5uhx"
      }
    },
    {
      "cell_type": "code",
      "execution_count": null,
      "metadata": {
        "colab": {
          "base_uri": "https://localhost:8080/",
          "height": 1000
        },
        "id": "pKc6sdxfQndh",
        "outputId": "4c92eba5-1627-41d4-ef33-13c39068e929"
      },
      "outputs": [
        {
          "output_type": "stream",
          "name": "stdout",
          "text": [
            "--------------------------------------------------------------\n",
            "| 𝐆𝐮𝐚𝐫𝐝𝐈𝐀𝐧 | \n",
            " \n",
            " \n",
            "█▓▒▒░░░ SEU ASSISTENTE DE SEGURANÇA CIBERNÉTICA ░░░▒▒▓█\n",
            "\n",
            "\n",
            "🔒🔒🔒🔒🔒🔒🔒🔒🔒🔒🔒🔒🔒🔒🔒🔒🔒🔒🔒🔒🔒🔒🔒🔒🔒🔒🔒🔒🔒\n",
            "--------------------------------------------------------------\n",
            "Escolha uma opção:\n",
            "1. Conversar com o Guardian\n",
            "2. Gerar senha segura\n",
            "3. Verificar segurança do link\n",
            "4. Sair\n",
            "\n",
            " Insira um numero: 1\n",
            "--------------------------------------------------------------\n",
            "Para encerrar a conversa, digite 'sair'. Para retornar ao menu principal, digite 'menu'.\n",
            "\n",
            "-------------------------------------------------------------\n",
            "Como posso te ajudar hoje?: o que é a area de SI\n",
            "--------------------------------------------------------------\n",
            "Resposta: **Sou um assistente de cibersegurança. Veja como posso ajudá-lo:**\n",
            "\n",
            "**Compreensão da área de SI**\n",
            "\n",
            "* **Definição:** SI (Sistemas de Informação) é um campo que envolve o uso de tecnologia da informação (TI) e ciência da computação para coletar, processar, armazenar e disseminar informações.\n",
            "* **Objetivos:** Melhorar a eficiência operacional, tomada de decisão e comunicação dentro de uma organização.\n",
            "\n",
            "**Serviços de cibersegurança**\n",
            "\n",
            "* **Monitoramento e detecção de ameaças:** Rastreio de redes e sistemas para identificar e detectar ameaças cibernéticas.\n",
            "* **Resposta a incidentes:** Investigação e contenção de violações de segurança cibernética para minimizar danos.\n",
            "* **Análise de vulnerabilidade:** Identificação e priorização de vulnerabilidades em sistemas e redes.\n",
            "* **Gestão de riscos cibernéticos:** Avaliação e mitigação de riscos de segurança cibernética para proteger ativos críticos.\n",
            "* **Treinamento e conscientização sobre segurança cibernética:** Educação dos funcionários sobre melhores práticas de segurança cibernética e conscientização de ameaças.\n",
            "\n",
            "**Recursos adicionais**\n",
            "\n",
            "* **Avaliações de segurança:** Avaliações abrangentes da postura de segurança cibernética de sua organização.\n",
            "* **Plano de resposta a incidentes:** Documentação de procedimentos para lidar com incidentes de segurança cibernética.\n",
            "* **Gestão de patches e vulnerabilidades:** Implantação e gerenciamento de patches e atualizações para corrigir vulnerabilidades.\n",
            "* **Testes de penetração:** Simulações de ataques cibernéticos para identificar áreas fracas em sistemas e redes.\n",
            "\n",
            "**Benefícios dos serviços de cibersegurança**\n",
            "\n",
            "* Proteção contra violações de dados\n",
            "* Redução do tempo de inatividade do sistema\n",
            "* Aumento da confiança do cliente\n",
            "* Cumprimento regulatório\n",
            "* Vantagem competitiva\n",
            "\n",
            "**Como posso ajudá-lo?**\n",
            "\n",
            "* Fornecer informações e orientações sobre melhores práticas de segurança cibernética\n",
            "* Recomendar soluções de segurança cibernética para atender às suas necessidades específicas\n",
            "* Conectar você com especialistas em segurança cibernética em sua área\n",
            "* Auxiliar no planejamento e execução de iniciativas de segurança cibernética\n",
            "\n",
            "-------------------------------------------------------------\n"
          ]
        }
      ],
      "source": [
        "model = guardian.GenerativeModel('gemini-pro')\n",
        "\n",
        "# Iniciar uma sessão de chat com o modelo\n",
        "chat = model.start_chat(history=[])\n",
        "\n",
        "# Função para gerar senhas aleatórias\n",
        "def gerar_senha(comprimento=12):\n",
        "    alfabeto = string.ascii_letters + string.digits + string.punctuation\n",
        "    senha = ''.join(secrets.choice(alfabeto) for _ in range(comprimento))\n",
        "    return senha\n",
        "\n",
        "# Função para obter respostas do assistente de cibersegurança\n",
        "def obter_resposta(pergunta):\n",
        "    prompt = f\"Você é um assistente de cibersegurança. Como posso te ajudar hoje? {pergunta}\"\n",
        "\n",
        "    try:\n",
        "        response = chat.send_message(prompt)\n",
        "        return response.text\n",
        "    except Exception as e:\n",
        "        return f\"Desculpe, ocorreu um erro: {e}\"\n",
        "\n",
        "# Função para verificar a segurança do link\n",
        "def verificar_link(url):\n",
        "    if url.startswith(\"https://\"):\n",
        "        return 'O link é seguro (HTTPS).\\n \\n * AVISO! * \\n Mesmo com o HTTPS, recomendo analisar cuidadosamente o site para evitar possíveis golpes de phishing.'\n",
        "    elif url.startswith(\"http://\"):\n",
        "        return \"O link não é seguro (HTTP). Tenha cuidado!\"\n",
        "    else:\n",
        "        return \"Formato de URL inválido.\"\n",
        "\n",
        "# Introdução do Guardian\n",
        "print('--------------------------------------------------------------')\n",
        "print(\"| 𝐆𝐮𝐚𝐫𝐝𝐈𝐀𝐧 |\", \"\\n\", \"\\n\",\"\\n\"'█▓▒▒░░░ SEU ASSISTENTE DE SEGURANÇA CIBERNÉTICA ░░░▒▒▓█')\n",
        "print(\"\\n\")\n",
        "print('🔒🔒🔒🔒🔒🔒🔒🔒🔒🔒🔒🔒🔒🔒🔒🔒🔒🔒🔒🔒🔒🔒🔒🔒🔒🔒🔒🔒🔒')\n",
        "\n",
        "# Loop principal do programa\n",
        "while True:\n",
        "    print('--------------------------------------------------------------')\n",
        "    opcao = input(\"Escolha uma opção:\\n1. Conversar com o Guardian\\n2. Gerar senha segura\\n3. Verificar segurança do link\\n4. Sair\\n\\n Insira um numero: \")\n",
        "    print('--------------------------------------------------------------')\n",
        "\n",
        "    if opcao == '1':\n",
        "        print(\"Para encerrar a conversa, digite 'sair'. Para retornar ao menu principal, digite 'menu'.\\n\")\n",
        "        while True:\n",
        "            print('-------------------------------------------------------------')\n",
        "            gcht = input('Como posso te ajudar hoje?: ')\n",
        "            if gcht.lower() == \"sair\":\n",
        "                break\n",
        "            elif gcht.lower() == \"menu\":\n",
        "                break\n",
        "            resposta = obter_resposta(gcht)\n",
        "            print('--------------------------------------------------------------')\n",
        "            print(f\"Resposta: {resposta.rjust(70)}\\n\")  # Alinhamento à direita\n",
        "\n",
        "    elif opcao == '2':\n",
        "        comprimento = int(input(\"Digite o comprimento desejado para a senha: \"))\n",
        "        senha = gerar_senha(comprimento)\n",
        "        print('-------------------------------------------------------------')\n",
        "        print(f\"Senha gerada: {senha}\\n\")\n",
        "\n",
        "    elif opcao == '3':\n",
        "        url = input(\"Digite o link que deseja verificar: \")\n",
        "        resultado = verificar_link(url)\n",
        "        print('--------------------------------------------------------------')\n",
        "        print(f\"Resultado: {resultado}\\n\")\n",
        "\n",
        "    elif opcao == '4':\n",
        "        break\n",
        "\n",
        "    else:\n",
        "        print(\"Opção inválida. Tente novamente.\\n\")"
      ]
    }
  ],
  "metadata": {
    "colab": {
      "provenance": [],
      "authorship_tag": "ABX9TyN09wMKsTOKLVnVwNTmF/+1",
      "include_colab_link": true
    },
    "kernelspec": {
      "display_name": "Python 3",
      "name": "python3"
    },
    "language_info": {
      "name": "python"
    }
  },
  "nbformat": 4,
  "nbformat_minor": 0
}