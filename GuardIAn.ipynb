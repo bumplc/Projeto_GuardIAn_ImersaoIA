{
  "cells": [
    {
      "cell_type": "markdown",
      "metadata": {
        "id": "view-in-github",
        "colab_type": "text"
      },
      "source": [
        "<a href=\"https://colab.research.google.com/github/bumplc/Projeto_GuardIAn_ImersaoIA/blob/main/GuardIAn.ipynb\" target=\"_parent\"><img src=\"https://colab.research.google.com/assets/colab-badge.svg\" alt=\"Open In Colab\"/></a>"
      ]
    },
    {
      "cell_type": "markdown",
      "metadata": {
        "id": "Jgge7vl4gwU0"
      },
      "source": [
        "### **API Google | GuardIAn**\n"
      ]
    },
    {
      "cell_type": "code",
      "source": [
        "import google.generativeai as guardian\n",
        "import secrets\n",
        "import string\n",
        "\n",
        "# API do Google Cloud x Colab\n",
        "from google.colab import userdata\n",
        "api_key = userdata.get('gkey')\n",
        "\n",
        "# Configurar a API do Google Generative AI\n",
        "guardian.configure(api_key=api_key)"
      ],
      "metadata": {
        "id": "2Ws_x23h4b-v"
      },
      "execution_count": null,
      "outputs": []
    },
    {
      "cell_type": "markdown",
      "source": [
        "Sistema GuadIAn"
      ],
      "metadata": {
        "id": "C5h5M1_Z5uhx"
      }
    },
    {
      "cell_type": "code",
      "execution_count": null,
      "metadata": {
        "colab": {
          "base_uri": "https://localhost:8080/",
          "height": 1000
        },
        "id": "pKc6sdxfQndh",
        "outputId": "78659f05-3d5d-4cb1-a565-dbf31dffbcbb"
      },
      "outputs": [
        {
          "output_type": "stream",
          "name": "stdout",
          "text": [
            "--------------------------------------------------------------\n",
            "| 𝐆𝐮𝐚𝐫𝐝𝐈𝐀𝐧 | \n",
            " \n",
            " \n",
            "█▓▒▒░░░ SEU ASSISTENTE DE SEGURANÇA CIBERNÉTICA ░░░▒▒▓█\n",
            "\n",
            "\n",
            "🔒🔒🔒🔒🔒🔒🔒🔒🔒🔒🔒🔒🔒🔒🔒🔒🔒🔒🔒🔒🔒🔒🔒🔒🔒🔒🔒🔒🔒\n",
            "--------------------------------------------------------------\n",
            "Escolha uma opção:\n",
            "1. Conversar com o Guardian\n",
            "2. Gerar senha segura\n",
            "3. Verificar segurança do link\n",
            "4. Sair\n",
            "\n",
            " Insira um numero: 1\n",
            "--------------------------------------------------------------\n",
            "Para encerrar a conversa, digite 'sair'. Para retornar ao menu principal, digite 'menu'.\n",
            "\n",
            "-------------------------------------------------------------\n",
            "Como posso te ajudar hoje?: me indique filmes\n",
            "--------------------------------------------------------------\n",
            "Resposta: **Filmes sobre Cibersegurança:**\n",
            "\n",
            "* **Blackhat (2015):** Um hacker é contratado pelo governo chinês para investigar um ciberataque global.\n",
            "* **Cyber (2015):** Um grupo de hackers planeja um ataque cibernético em larga escala.\n",
            "* **Snowden (2016):** A história do ex-contratado da NSA, Edward Snowden, que vazou informações confidenciais sobre vigilância em massa.\n",
            "* **The Net (1995):** Uma analista de segurança de sistemas é perseguida por hackers após testemunhar um crime online.\n",
            "* **War Games (1983):** Um jovem hacker acidentalmente se conecta a um sistema de computador militar, desencadeando um jogo de guerra nuclear.\n",
            "* **Enemy of the State (1998):** Um advogado se torna alvo de vigilância do governo depois de representar um homem injustamente acusado.\n",
            "* **Minority Report (2002):** Uma divisão policial do futuro usa tecnologia avançada para prender criminosos antes que eles cometam crimes.\n",
            "* **Untraceable (2008):** Um agente do FBI investiga um site onde as pessoas podem votar para matar outras pessoas ao vivo.\n",
            "* **The Circle (2017):** Uma jovem se junta a uma empresa de tecnologia utópica, mas logo descobre que existem segredos sombrios.\n",
            "* **Connected (2016):** Um grupo de estranhos é conectado através de seus dispositivos e é forçado a enfrentar seus segredos online.\n",
            "\n",
            "-------------------------------------------------------------\n"
          ]
        },
        {
          "output_type": "error",
          "ename": "KeyboardInterrupt",
          "evalue": "Interrupted by user",
          "traceback": [
            "\u001b[0;31m---------------------------------------------------------------------------\u001b[0m",
            "\u001b[0;31mKeyboardInterrupt\u001b[0m                         Traceback (most recent call last)",
            "\u001b[0;32m<ipython-input-2-7c96491abc62>\u001b[0m in \u001b[0;36m<cell line: 38>\u001b[0;34m()\u001b[0m\n\u001b[1;32m     45\u001b[0m         \u001b[0;32mwhile\u001b[0m \u001b[0;32mTrue\u001b[0m\u001b[0;34m:\u001b[0m\u001b[0;34m\u001b[0m\u001b[0;34m\u001b[0m\u001b[0m\n\u001b[1;32m     46\u001b[0m             \u001b[0mprint\u001b[0m\u001b[0;34m(\u001b[0m\u001b[0;34m'-------------------------------------------------------------'\u001b[0m\u001b[0;34m)\u001b[0m\u001b[0;34m\u001b[0m\u001b[0;34m\u001b[0m\u001b[0m\n\u001b[0;32m---> 47\u001b[0;31m             \u001b[0mgcht\u001b[0m \u001b[0;34m=\u001b[0m \u001b[0minput\u001b[0m\u001b[0;34m(\u001b[0m\u001b[0;34m'Como posso te ajudar hoje?: '\u001b[0m\u001b[0;34m)\u001b[0m\u001b[0;34m\u001b[0m\u001b[0;34m\u001b[0m\u001b[0m\n\u001b[0m\u001b[1;32m     48\u001b[0m             \u001b[0;32mif\u001b[0m \u001b[0mgcht\u001b[0m\u001b[0;34m.\u001b[0m\u001b[0mlower\u001b[0m\u001b[0;34m(\u001b[0m\u001b[0;34m)\u001b[0m \u001b[0;34m==\u001b[0m \u001b[0;34m\"sair\"\u001b[0m\u001b[0;34m:\u001b[0m\u001b[0;34m\u001b[0m\u001b[0;34m\u001b[0m\u001b[0m\n\u001b[1;32m     49\u001b[0m                 \u001b[0;32mbreak\u001b[0m\u001b[0;34m\u001b[0m\u001b[0;34m\u001b[0m\u001b[0m\n",
            "\u001b[0;32m/usr/local/lib/python3.10/dist-packages/ipykernel/kernelbase.py\u001b[0m in \u001b[0;36mraw_input\u001b[0;34m(self, prompt)\u001b[0m\n\u001b[1;32m    849\u001b[0m                 \u001b[0;34m\"raw_input was called, but this frontend does not support input requests.\"\u001b[0m\u001b[0;34m\u001b[0m\u001b[0;34m\u001b[0m\u001b[0m\n\u001b[1;32m    850\u001b[0m             )\n\u001b[0;32m--> 851\u001b[0;31m         return self._input_request(str(prompt),\n\u001b[0m\u001b[1;32m    852\u001b[0m             \u001b[0mself\u001b[0m\u001b[0;34m.\u001b[0m\u001b[0m_parent_ident\u001b[0m\u001b[0;34m,\u001b[0m\u001b[0;34m\u001b[0m\u001b[0;34m\u001b[0m\u001b[0m\n\u001b[1;32m    853\u001b[0m             \u001b[0mself\u001b[0m\u001b[0;34m.\u001b[0m\u001b[0m_parent_header\u001b[0m\u001b[0;34m,\u001b[0m\u001b[0;34m\u001b[0m\u001b[0;34m\u001b[0m\u001b[0m\n",
            "\u001b[0;32m/usr/local/lib/python3.10/dist-packages/ipykernel/kernelbase.py\u001b[0m in \u001b[0;36m_input_request\u001b[0;34m(self, prompt, ident, parent, password)\u001b[0m\n\u001b[1;32m    893\u001b[0m             \u001b[0;32mexcept\u001b[0m \u001b[0mKeyboardInterrupt\u001b[0m\u001b[0;34m:\u001b[0m\u001b[0;34m\u001b[0m\u001b[0;34m\u001b[0m\u001b[0m\n\u001b[1;32m    894\u001b[0m                 \u001b[0;31m# re-raise KeyboardInterrupt, to truncate traceback\u001b[0m\u001b[0;34m\u001b[0m\u001b[0;34m\u001b[0m\u001b[0m\n\u001b[0;32m--> 895\u001b[0;31m                 \u001b[0;32mraise\u001b[0m \u001b[0mKeyboardInterrupt\u001b[0m\u001b[0;34m(\u001b[0m\u001b[0;34m\"Interrupted by user\"\u001b[0m\u001b[0;34m)\u001b[0m \u001b[0;32mfrom\u001b[0m \u001b[0;32mNone\u001b[0m\u001b[0;34m\u001b[0m\u001b[0;34m\u001b[0m\u001b[0m\n\u001b[0m\u001b[1;32m    896\u001b[0m             \u001b[0;32mexcept\u001b[0m \u001b[0mException\u001b[0m \u001b[0;32mas\u001b[0m \u001b[0me\u001b[0m\u001b[0;34m:\u001b[0m\u001b[0;34m\u001b[0m\u001b[0;34m\u001b[0m\u001b[0m\n\u001b[1;32m    897\u001b[0m                 \u001b[0mself\u001b[0m\u001b[0;34m.\u001b[0m\u001b[0mlog\u001b[0m\u001b[0;34m.\u001b[0m\u001b[0mwarning\u001b[0m\u001b[0;34m(\u001b[0m\u001b[0;34m\"Invalid Message:\"\u001b[0m\u001b[0;34m,\u001b[0m \u001b[0mexc_info\u001b[0m\u001b[0;34m=\u001b[0m\u001b[0;32mTrue\u001b[0m\u001b[0;34m)\u001b[0m\u001b[0;34m\u001b[0m\u001b[0;34m\u001b[0m\u001b[0m\n",
            "\u001b[0;31mKeyboardInterrupt\u001b[0m: Interrupted by user"
          ]
        }
      ],
      "source": [
        "model = guardian.GenerativeModel('gemini-pro')\n",
        "\n",
        "# Iniciar uma sessão de chat com o modelo\n",
        "chat = model.start_chat(history=[])\n",
        "\n",
        "# Função para gerar senhas aleatórias\n",
        "def gerar_senha(comprimento=12):\n",
        "    alfabeto = string.ascii_letters + string.digits + string.punctuation\n",
        "    senha = ''.join(secrets.choice(alfabeto) for _ in range(comprimento))\n",
        "    return senha\n",
        "\n",
        "# Função para obter respostas do assistente de cibersegurança\n",
        "def obter_resposta(pergunta):\n",
        "    prompt = f\"Você é um assistente de cibersegurança. Como posso te ajudar hoje? {pergunta}\"\n",
        "\n",
        "    try:\n",
        "        response = chat.send_message(prompt)\n",
        "        return response.text\n",
        "    except Exception as e:\n",
        "        return f\"Desculpe, ocorreu um erro: {e}\"\n",
        "\n",
        "# Função para verificar a segurança do link\n",
        "def verificar_link(url):\n",
        "    if url.startswith(\"https://\"):\n",
        "        return 'O link é seguro (HTTPS).\\n \\n * AVISO! * \\n Mesmo com o HTTPS, recomendo analisar cuidadosamente o site para evitar possíveis golpes de phishing.'\n",
        "    elif url.startswith(\"http://\"):\n",
        "        return \"O link não é seguro (HTTP). Tenha cuidado!\"\n",
        "    else:\n",
        "        return \"Formato de URL inválido.\"\n",
        "\n",
        "# Introdução do Guardian\n",
        "print('--------------------------------------------------------------')\n",
        "print(\"| 𝐆𝐮𝐚𝐫𝐝𝐈𝐀𝐧 |\", \"\\n\", \"\\n\",\"\\n\"'█▓▒▒░░░ SEU ASSISTENTE DE SEGURANÇA CIBERNÉTICA ░░░▒▒▓█')\n",
        "print(\"\\n\")\n",
        "print('🔒🔒🔒🔒🔒🔒🔒🔒🔒🔒🔒🔒🔒🔒🔒🔒🔒🔒🔒🔒🔒🔒🔒🔒🔒🔒🔒🔒🔒')\n",
        "\n",
        "# Loop principal do programa\n",
        "while True:\n",
        "    print('--------------------------------------------------------------')\n",
        "    opcao = input(\"Escolha uma opção:\\n1. Conversar com o Guardian\\n2. Gerar senha segura\\n3. Verificar segurança do link\\n4. Sair\\n\\n Insira um numero: \")\n",
        "    print('--------------------------------------------------------------')\n",
        "\n",
        "    if opcao == '1':\n",
        "        print(\"Para encerrar a conversa, digite 'sair'. Para retornar ao menu principal, digite 'menu'.\\n\")\n",
        "        while True:\n",
        "            print('-------------------------------------------------------------')\n",
        "            gcht = input('Como posso te ajudar hoje?: ')\n",
        "            if gcht.lower() == \"sair\":\n",
        "                break\n",
        "            elif gcht.lower() == \"menu\":\n",
        "                break\n",
        "            resposta = obter_resposta(gcht)\n",
        "            print('--------------------------------------------------------------')\n",
        "            print(f\"Resposta: {resposta.rjust(70)}\\n\")  # Alinhamento à direita\n",
        "\n",
        "    elif opcao == '2':\n",
        "        comprimento = int(input(\"Digite o comprimento desejado para a senha: \"))\n",
        "        senha = gerar_senha(comprimento)\n",
        "        print('-------------------------------------------------------------')\n",
        "        print(f\"Senha gerada: {senha}\\n\")\n",
        "\n",
        "    elif opcao == '3':\n",
        "        url = input(\"Digite o link que deseja verificar: \")\n",
        "        resultado = verificar_link(url)\n",
        "        print('--------------------------------------------------------------')\n",
        "        print(f\"Resultado: {resultado}\\n\")\n",
        "\n",
        "    elif opcao == '4':\n",
        "        break\n",
        "\n",
        "    else:\n",
        "        print(\"Opção inválida. Tente novamente.\\n\")"
      ]
    }
  ],
  "metadata": {
    "colab": {
      "provenance": [],
      "authorship_tag": "ABX9TyMU3apecttEnvT8wKvHCn/Z",
      "include_colab_link": true
    },
    "kernelspec": {
      "display_name": "Python 3",
      "name": "python3"
    },
    "language_info": {
      "name": "python"
    }
  },
  "nbformat": 4,
  "nbformat_minor": 0
}